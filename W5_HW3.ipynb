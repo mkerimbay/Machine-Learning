{
  "nbformat": 4,
  "nbformat_minor": 0,
  "metadata": {
    "colab": {
      "provenance": [],
      "include_colab_link": true
    },
    "kernelspec": {
      "name": "python3",
      "display_name": "Python 3"
    },
    "language_info": {
      "name": "python"
    }
  },
  "cells": [
    {
      "cell_type": "markdown",
      "metadata": {
        "id": "view-in-github",
        "colab_type": "text"
      },
      "source": [
        "<a href=\"https://colab.research.google.com/github/mkerimbay/Machine-Learning/blob/master/W5_HW3.ipynb\" target=\"_parent\"><img src=\"https://colab.research.google.com/assets/colab-badge.svg\" alt=\"Open In Colab\"/></a>"
      ]
    },
    {
      "cell_type": "code",
      "source": [
        "#@title Week 5: Homework 3: End-to-End Project: K-Fold Cross Validation"
      ],
      "metadata": {
        "cellView": "form",
        "id": "D_lQhMJgyqL8"
      },
      "execution_count": null,
      "outputs": []
    },
    {
      "cell_type": "code",
      "source": [
        "import pandas as pd\n",
        "from sklearn.neighbors import KNeighborsClassifier\n",
        "from sklearn.metrics import confusion_matrix\n",
        "from sklearn.model_selection import cross_val_predict\n",
        "from tabulate import tabulate\n",
        "\n",
        "from sklearn.model_selection import KFold\n",
        "from sklearn.metrics import accuracy_score\n",
        "from sklearn.metrics import recall_score\n",
        "from sklearn.metrics import precision_score\n",
        "from sklearn.metrics import f1_score\n"
      ],
      "metadata": {
        "id": "YqJnnhvD3Jy2"
      },
      "execution_count": 11,
      "outputs": []
    },
    {
      "cell_type": "code",
      "source": [
        "# we have this dataset with 24 rows"
      ],
      "metadata": {
        "id": "cV_XKviy3k2Q"
      },
      "execution_count": 8,
      "outputs": []
    },
    {
      "cell_type": "markdown",
      "source": [
        "<img src='https://hc.labnet.sfbu.edu/~henry/sfbu/course/data_science/algorithm/slide/data_table.jpg'>"
      ],
      "metadata": {
        "id": "V1OyTbqP3Zah"
      }
    },
    {
      "cell_type": "markdown",
      "source": [
        "## K = 3"
      ],
      "metadata": {
        "id": "UmmcxKqVzpZ4"
      }
    },
    {
      "cell_type": "code",
      "metadata": {
        "colab": {
          "base_uri": "https://localhost:8080/",
          "height": 802
        },
        "id": "dspaBu5olltR",
        "outputId": "e4ebb811-29aa-452c-c597-cc061562275a"
      },
      "source": [
        "x1 = [4,1,3,3,7,4,6,5,3,6,4,4,5,7,5,10,7,4,9,5,8,6,7,8]\n",
        "x2 = [3,3,3,7,4,1,5,6,7,2,6,4,8,8,6,5,6,10,7,4,5,6,4,8]\n",
        "Y = ['+'] * 10 + ['-'] * 14 # we have consequent 10 positive then 14 negative outcomes\n",
        "\n",
        "# Let's create dataframe\n",
        "df = pd.DataFrame({'X1': x1, 'X2': x2, 'Y': Y})\n",
        "\n",
        "\n",
        "# define our X and y\n",
        "X = df[['X1', 'X2']]\n",
        "y = df['Y']\n",
        "\n",
        "df"
      ],
      "execution_count": 40,
      "outputs": [
        {
          "output_type": "execute_result",
          "data": {
            "text/plain": [
              "    X1  X2  Y\n",
              "0    4   3  +\n",
              "1    1   3  +\n",
              "2    3   3  +\n",
              "3    3   7  +\n",
              "4    7   4  +\n",
              "5    4   1  +\n",
              "6    6   5  +\n",
              "7    5   6  +\n",
              "8    3   7  +\n",
              "9    6   2  +\n",
              "10   4   6  -\n",
              "11   4   4  -\n",
              "12   5   8  -\n",
              "13   7   8  -\n",
              "14   5   6  -\n",
              "15  10   5  -\n",
              "16   7   6  -\n",
              "17   4  10  -\n",
              "18   9   7  -\n",
              "19   5   4  -\n",
              "20   8   5  -\n",
              "21   6   6  -\n",
              "22   7   4  -\n",
              "23   8   8  -"
            ],
            "text/html": [
              "\n",
              "  <div id=\"df-a9af659e-2a64-4d90-a4ee-325edefea0cb\">\n",
              "    <div class=\"colab-df-container\">\n",
              "      <div>\n",
              "<style scoped>\n",
              "    .dataframe tbody tr th:only-of-type {\n",
              "        vertical-align: middle;\n",
              "    }\n",
              "\n",
              "    .dataframe tbody tr th {\n",
              "        vertical-align: top;\n",
              "    }\n",
              "\n",
              "    .dataframe thead th {\n",
              "        text-align: right;\n",
              "    }\n",
              "</style>\n",
              "<table border=\"1\" class=\"dataframe\">\n",
              "  <thead>\n",
              "    <tr style=\"text-align: right;\">\n",
              "      <th></th>\n",
              "      <th>X1</th>\n",
              "      <th>X2</th>\n",
              "      <th>Y</th>\n",
              "    </tr>\n",
              "  </thead>\n",
              "  <tbody>\n",
              "    <tr>\n",
              "      <th>0</th>\n",
              "      <td>4</td>\n",
              "      <td>3</td>\n",
              "      <td>+</td>\n",
              "    </tr>\n",
              "    <tr>\n",
              "      <th>1</th>\n",
              "      <td>1</td>\n",
              "      <td>3</td>\n",
              "      <td>+</td>\n",
              "    </tr>\n",
              "    <tr>\n",
              "      <th>2</th>\n",
              "      <td>3</td>\n",
              "      <td>3</td>\n",
              "      <td>+</td>\n",
              "    </tr>\n",
              "    <tr>\n",
              "      <th>3</th>\n",
              "      <td>3</td>\n",
              "      <td>7</td>\n",
              "      <td>+</td>\n",
              "    </tr>\n",
              "    <tr>\n",
              "      <th>4</th>\n",
              "      <td>7</td>\n",
              "      <td>4</td>\n",
              "      <td>+</td>\n",
              "    </tr>\n",
              "    <tr>\n",
              "      <th>5</th>\n",
              "      <td>4</td>\n",
              "      <td>1</td>\n",
              "      <td>+</td>\n",
              "    </tr>\n",
              "    <tr>\n",
              "      <th>6</th>\n",
              "      <td>6</td>\n",
              "      <td>5</td>\n",
              "      <td>+</td>\n",
              "    </tr>\n",
              "    <tr>\n",
              "      <th>7</th>\n",
              "      <td>5</td>\n",
              "      <td>6</td>\n",
              "      <td>+</td>\n",
              "    </tr>\n",
              "    <tr>\n",
              "      <th>8</th>\n",
              "      <td>3</td>\n",
              "      <td>7</td>\n",
              "      <td>+</td>\n",
              "    </tr>\n",
              "    <tr>\n",
              "      <th>9</th>\n",
              "      <td>6</td>\n",
              "      <td>2</td>\n",
              "      <td>+</td>\n",
              "    </tr>\n",
              "    <tr>\n",
              "      <th>10</th>\n",
              "      <td>4</td>\n",
              "      <td>6</td>\n",
              "      <td>-</td>\n",
              "    </tr>\n",
              "    <tr>\n",
              "      <th>11</th>\n",
              "      <td>4</td>\n",
              "      <td>4</td>\n",
              "      <td>-</td>\n",
              "    </tr>\n",
              "    <tr>\n",
              "      <th>12</th>\n",
              "      <td>5</td>\n",
              "      <td>8</td>\n",
              "      <td>-</td>\n",
              "    </tr>\n",
              "    <tr>\n",
              "      <th>13</th>\n",
              "      <td>7</td>\n",
              "      <td>8</td>\n",
              "      <td>-</td>\n",
              "    </tr>\n",
              "    <tr>\n",
              "      <th>14</th>\n",
              "      <td>5</td>\n",
              "      <td>6</td>\n",
              "      <td>-</td>\n",
              "    </tr>\n",
              "    <tr>\n",
              "      <th>15</th>\n",
              "      <td>10</td>\n",
              "      <td>5</td>\n",
              "      <td>-</td>\n",
              "    </tr>\n",
              "    <tr>\n",
              "      <th>16</th>\n",
              "      <td>7</td>\n",
              "      <td>6</td>\n",
              "      <td>-</td>\n",
              "    </tr>\n",
              "    <tr>\n",
              "      <th>17</th>\n",
              "      <td>4</td>\n",
              "      <td>10</td>\n",
              "      <td>-</td>\n",
              "    </tr>\n",
              "    <tr>\n",
              "      <th>18</th>\n",
              "      <td>9</td>\n",
              "      <td>7</td>\n",
              "      <td>-</td>\n",
              "    </tr>\n",
              "    <tr>\n",
              "      <th>19</th>\n",
              "      <td>5</td>\n",
              "      <td>4</td>\n",
              "      <td>-</td>\n",
              "    </tr>\n",
              "    <tr>\n",
              "      <th>20</th>\n",
              "      <td>8</td>\n",
              "      <td>5</td>\n",
              "      <td>-</td>\n",
              "    </tr>\n",
              "    <tr>\n",
              "      <th>21</th>\n",
              "      <td>6</td>\n",
              "      <td>6</td>\n",
              "      <td>-</td>\n",
              "    </tr>\n",
              "    <tr>\n",
              "      <th>22</th>\n",
              "      <td>7</td>\n",
              "      <td>4</td>\n",
              "      <td>-</td>\n",
              "    </tr>\n",
              "    <tr>\n",
              "      <th>23</th>\n",
              "      <td>8</td>\n",
              "      <td>8</td>\n",
              "      <td>-</td>\n",
              "    </tr>\n",
              "  </tbody>\n",
              "</table>\n",
              "</div>\n",
              "      <button class=\"colab-df-convert\" onclick=\"convertToInteractive('df-a9af659e-2a64-4d90-a4ee-325edefea0cb')\"\n",
              "              title=\"Convert this dataframe to an interactive table.\"\n",
              "              style=\"display:none;\">\n",
              "        \n",
              "  <svg xmlns=\"http://www.w3.org/2000/svg\" height=\"24px\"viewBox=\"0 0 24 24\"\n",
              "       width=\"24px\">\n",
              "    <path d=\"M0 0h24v24H0V0z\" fill=\"none\"/>\n",
              "    <path d=\"M18.56 5.44l.94 2.06.94-2.06 2.06-.94-2.06-.94-.94-2.06-.94 2.06-2.06.94zm-11 1L8.5 8.5l.94-2.06 2.06-.94-2.06-.94L8.5 2.5l-.94 2.06-2.06.94zm10 10l.94 2.06.94-2.06 2.06-.94-2.06-.94-.94-2.06-.94 2.06-2.06.94z\"/><path d=\"M17.41 7.96l-1.37-1.37c-.4-.4-.92-.59-1.43-.59-.52 0-1.04.2-1.43.59L10.3 9.45l-7.72 7.72c-.78.78-.78 2.05 0 2.83L4 21.41c.39.39.9.59 1.41.59.51 0 1.02-.2 1.41-.59l7.78-7.78 2.81-2.81c.8-.78.8-2.07 0-2.86zM5.41 20L4 18.59l7.72-7.72 1.47 1.35L5.41 20z\"/>\n",
              "  </svg>\n",
              "      </button>\n",
              "      \n",
              "  <style>\n",
              "    .colab-df-container {\n",
              "      display:flex;\n",
              "      flex-wrap:wrap;\n",
              "      gap: 12px;\n",
              "    }\n",
              "\n",
              "    .colab-df-convert {\n",
              "      background-color: #E8F0FE;\n",
              "      border: none;\n",
              "      border-radius: 50%;\n",
              "      cursor: pointer;\n",
              "      display: none;\n",
              "      fill: #1967D2;\n",
              "      height: 32px;\n",
              "      padding: 0 0 0 0;\n",
              "      width: 32px;\n",
              "    }\n",
              "\n",
              "    .colab-df-convert:hover {\n",
              "      background-color: #E2EBFA;\n",
              "      box-shadow: 0px 1px 2px rgba(60, 64, 67, 0.3), 0px 1px 3px 1px rgba(60, 64, 67, 0.15);\n",
              "      fill: #174EA6;\n",
              "    }\n",
              "\n",
              "    [theme=dark] .colab-df-convert {\n",
              "      background-color: #3B4455;\n",
              "      fill: #D2E3FC;\n",
              "    }\n",
              "\n",
              "    [theme=dark] .colab-df-convert:hover {\n",
              "      background-color: #434B5C;\n",
              "      box-shadow: 0px 1px 3px 1px rgba(0, 0, 0, 0.15);\n",
              "      filter: drop-shadow(0px 1px 2px rgba(0, 0, 0, 0.3));\n",
              "      fill: #FFFFFF;\n",
              "    }\n",
              "  </style>\n",
              "\n",
              "      <script>\n",
              "        const buttonEl =\n",
              "          document.querySelector('#df-a9af659e-2a64-4d90-a4ee-325edefea0cb button.colab-df-convert');\n",
              "        buttonEl.style.display =\n",
              "          google.colab.kernel.accessAllowed ? 'block' : 'none';\n",
              "\n",
              "        async function convertToInteractive(key) {\n",
              "          const element = document.querySelector('#df-a9af659e-2a64-4d90-a4ee-325edefea0cb');\n",
              "          const dataTable =\n",
              "            await google.colab.kernel.invokeFunction('convertToInteractive',\n",
              "                                                     [key], {});\n",
              "          if (!dataTable) return;\n",
              "\n",
              "          const docLinkHtml = 'Like what you see? Visit the ' +\n",
              "            '<a target=\"_blank\" href=https://colab.research.google.com/notebooks/data_table.ipynb>data table notebook</a>'\n",
              "            + ' to learn more about interactive tables.';\n",
              "          element.innerHTML = '';\n",
              "          dataTable['output_type'] = 'display_data';\n",
              "          await google.colab.output.renderOutput(dataTable, element);\n",
              "          const docLink = document.createElement('div');\n",
              "          docLink.innerHTML = docLinkHtml;\n",
              "          element.appendChild(docLink);\n",
              "        }\n",
              "      </script>\n",
              "    </div>\n",
              "  </div>\n",
              "  "
            ]
          },
          "metadata": {},
          "execution_count": 40
        }
      ]
    },
    {
      "cell_type": "code",
      "source": [
        "# Create the KNN classifier with k=3\n",
        "knn = KNeighborsClassifier(n_neighbors=3)"
      ],
      "metadata": {
        "id": "yKVhmwid6Puy"
      },
      "execution_count": 41,
      "outputs": []
    },
    {
      "cell_type": "code",
      "source": [
        "\n",
        "# prepare cross validation\n",
        "kfold = KFold(n_splits=3, shuffle = True, random_state=1)\n",
        "res = []  # to store results from each fold\n",
        "for i, (train_indices, test_indices) in enumerate(kfold.split(X)):\n",
        "  print(f\" Fold: {i+1}\")\n",
        "  print(f\" \\t Train indices: {train_indices}\")\n",
        "  print(f\" \\t Test indices: {test_indices}\")\n",
        "  \n",
        "  knn_3 = KNeighborsClassifier(n_neighbors=3)\n",
        "  knn_3.fit(X.iloc[train_indices], y[train_indices])\n",
        "  y_pred = knn_3.predict(X.iloc[test_indices])\n",
        "  s = ' '.join(y_pred)\n",
        "  print(f' \\t Predictions:    \\t{s}')\n",
        "  s = ' '.join([y[i] for i in test_indices])\n",
        "  print(f' \\t Correct values: \\t{s}')\n",
        "  cm = confusion_matrix(y[test_indices], y_pred)\n",
        "  \n",
        "  print(f'Confusion Matrix:')\n",
        "  print(cm)\n",
        "  tn, fp, fn, tp = cm.ravel()\n",
        "  precision = precision_score(y[test_indices], y_pred, average=None,)[1]\n",
        "  accuracy = accuracy_score(y[test_indices], y_pred)\n",
        "  recall = recall_score(y[test_indices], y_pred, average=None)[1]\n",
        "  f1 = f1_score(y[test_indices], y_pred, average=None)[1]\n",
        "  res.append([i+1, tn, fp, fn, tp, precision, accuracy, recall, f1])\n"
      ],
      "metadata": {
        "colab": {
          "base_uri": "https://localhost:8080/"
        },
        "id": "ru6k30jM6Pnj",
        "outputId": "20fb2ddc-9be5-47cc-914f-8af564884d88"
      },
      "execution_count": 92,
      "outputs": [
        {
          "output_type": "stream",
          "name": "stdout",
          "text": [
            " Fold: 1\n",
            " \t Train indices: [ 0  1  2  5  6  7  8  9 11 12 15 16 19 21 22 23]\n",
            " \t Test indices: [ 3  4 10 13 14 17 18 20]\n",
            " \t Predictions:    \t+ - + - + + - -\n",
            " \t Correct values: \t+ + - - - - - -\n",
            "Confusion Matrix:\n",
            "[[1 1]\n",
            " [3 3]]\n",
            " Fold: 2\n",
            " \t Train indices: [ 3  4  5  8  9 10 11 12 13 14 15 17 18 20 22 23]\n",
            " \t Test indices: [ 0  1  2  6  7 16 19 21]\n",
            " \t Predictions:    \t+ - + - - - - -\n",
            " \t Correct values: \t+ + + + + - - -\n",
            "Confusion Matrix:\n",
            "[[2 3]\n",
            " [0 3]]\n",
            " Fold: 3\n",
            " \t Train indices: [ 0  1  2  3  4  6  7 10 13 14 16 17 18 19 20 21]\n",
            " \t Test indices: [ 5  8  9 11 12 15 22 23]\n",
            " \t Predictions:    \t+ + + + - - + -\n",
            " \t Correct values: \t+ + + - - - - -\n",
            "Confusion Matrix:\n",
            "[[3 0]\n",
            " [2 3]]\n"
          ]
        }
      ]
    },
    {
      "cell_type": "code",
      "source": [
        "print('For K = 3, our table will be: \\n')\n",
        "print(tabulate(res, headers=['Fold', 'TN', 'FP', 'FN', 'TP', 'Precision', 'Accuracy', 'Recall', 'F1']))"
      ],
      "metadata": {
        "colab": {
          "base_uri": "https://localhost:8080/"
        },
        "id": "S0s9n8I06Pk5",
        "outputId": "c8e22abb-0894-49e7-d95b-5736148cdc49"
      },
      "execution_count": 93,
      "outputs": [
        {
          "output_type": "stream",
          "name": "stdout",
          "text": [
            "For K = 3, our table will be: \n",
            "\n",
            "  Fold    TN    FP    FN    TP    Precision    Accuracy    Recall        F1\n",
            "------  ----  ----  ----  ----  -----------  ----------  --------  --------\n",
            "     1     1     1     3     3         0.75       0.5         0.5  0.6\n",
            "     2     2     3     0     3         0.5        0.625       1    0.666667\n",
            "     3     3     0     2     3         1          0.75        0.6  0.75\n"
          ]
        }
      ]
    },
    {
      "cell_type": "code",
      "source": [
        "# Our average F1 score from from 3 folds\n",
        "\n",
        "average_f1 = sum([x[-1] for x in res]) / len(res)\n",
        "average_f1"
      ],
      "metadata": {
        "colab": {
          "base_uri": "https://localhost:8080/"
        },
        "id": "w4J1BKHz6Pij",
        "outputId": "22c1d471-8a1a-42b2-ae81-4b3a4e6b42c3"
      },
      "execution_count": 94,
      "outputs": [
        {
          "output_type": "execute_result",
          "data": {
            "text/plain": [
              "0.6722222222222222"
            ]
          },
          "metadata": {},
          "execution_count": 94
        }
      ]
    },
    {
      "cell_type": "code",
      "source": [
        "# Now we repeat these steps with K = 5"
      ],
      "metadata": {
        "id": "mVykiS6a6Pfs"
      },
      "execution_count": null,
      "outputs": []
    },
    {
      "cell_type": "markdown",
      "source": [
        "## K = 5"
      ],
      "metadata": {
        "id": "waVq2ZArMBdH"
      }
    },
    {
      "cell_type": "code",
      "metadata": {
        "colab": {
          "base_uri": "https://localhost:8080/"
        },
        "id": "UdLyjsn9l0J4",
        "outputId": "2d216a84-bb7c-4fb3-8b4e-6f43f1687b52"
      },
      "source": [
        "# prepare cross validation\n",
        "kfold = KFold(n_splits=3, shuffle = True, random_state=1)\n",
        "res = []  # to store results from each fold\n",
        "for i, (train_indices, test_indices) in enumerate(kfold.split(X)):\n",
        "  print(f\" Fold: {i+1}\")\n",
        "  print(f\" \\t Train indices: {train_indices}\")\n",
        "  print(f\" \\t Test indices: {test_indices}\")\n",
        "  \n",
        "  knn_5 = KNeighborsClassifier(n_neighbors=5)\n",
        "  knn_5.fit(X.iloc[train_indices], y[train_indices])\n",
        "  y_pred = knn_5.predict(X.iloc[test_indices])\n",
        "  s = ' '.join(y_pred)\n",
        "  print(f' \\t Predictions:    \\t{s}')\n",
        "  s = ' '.join([y[i] for i in test_indices])\n",
        "  print(f' \\t Correct values: \\t{s}')\n",
        "  cm = confusion_matrix(y[test_indices], y_pred)\n",
        "  \n",
        "  print(f'Confusion Matrix:')\n",
        "  print(cm)\n",
        "  tn, fp, fn, tp = cm.ravel()\n",
        "  precision = precision_score(y[test_indices], y_pred, average=None,)[1]\n",
        "  accuracy = accuracy_score(y[test_indices], y_pred)\n",
        "  recall = recall_score(y[test_indices], y_pred, average=None)[1]\n",
        "  f1 = f1_score(y[test_indices], y_pred, average=None)[1]\n",
        "  res.append([i+1, tn, fp, fn, tp, precision, accuracy, recall, f1])\n"
      ],
      "execution_count": 95,
      "outputs": [
        {
          "output_type": "stream",
          "name": "stdout",
          "text": [
            " Fold: 1\n",
            " \t Train indices: [ 0  1  2  5  6  7  8  9 11 12 15 16 19 21 22 23]\n",
            " \t Test indices: [ 3  4 10 13 14 17 18 20]\n",
            " \t Predictions:    \t- - + - - - - -\n",
            " \t Correct values: \t+ + - - - - - -\n",
            "Confusion Matrix:\n",
            "[[0 2]\n",
            " [1 5]]\n",
            " Fold: 2\n",
            " \t Train indices: [ 3  4  5  8  9 10 11 12 13 14 15 17 18 20 22 23]\n",
            " \t Test indices: [ 0  1  2  6  7 16 19 21]\n",
            " \t Predictions:    \t+ + - - - - - -\n",
            " \t Correct values: \t+ + + + + - - -\n",
            "Confusion Matrix:\n",
            "[[2 3]\n",
            " [0 3]]\n",
            " Fold: 3\n",
            " \t Train indices: [ 0  1  2  3  4  6  7 10 13 14 16 17 18 19 20 21]\n",
            " \t Test indices: [ 5  8  9 11 12 15 22 23]\n",
            " \t Predictions:    \t+ - + + - - - -\n",
            " \t Correct values: \t+ + + - - - - -\n",
            "Confusion Matrix:\n",
            "[[2 1]\n",
            " [1 4]]\n"
          ]
        }
      ]
    },
    {
      "cell_type": "code",
      "metadata": {
        "colab": {
          "base_uri": "https://localhost:8080/"
        },
        "id": "6WhZwv7dl1Vr",
        "outputId": "82bc593c-e45e-498e-d045-b12165f05330"
      },
      "source": [
        "print('For K = 5, our table will be: \\n')\n",
        "print(tabulate(res, headers=['Fold', 'TN', 'FP', 'FN', 'TP', 'Precision', 'Accuracy', 'Recall', 'F1']))"
      ],
      "execution_count": 96,
      "outputs": [
        {
          "output_type": "stream",
          "name": "stdout",
          "text": [
            "For K = 5, our table will be: \n",
            "\n",
            "  Fold    TN    FP    FN    TP    Precision    Accuracy    Recall        F1\n",
            "------  ----  ----  ----  ----  -----------  ----------  --------  --------\n",
            "     1     0     2     1     5     0.714286       0.625  0.833333  0.769231\n",
            "     2     2     3     0     3     0.5            0.625  1         0.666667\n",
            "     3     2     1     1     4     0.8            0.75   0.8       0.8\n"
          ]
        }
      ]
    },
    {
      "cell_type": "code",
      "metadata": {
        "colab": {
          "base_uri": "https://localhost:8080/"
        },
        "id": "MwOcj10vK2nt",
        "outputId": "74f761a6-4011-468c-c8c3-599529727956"
      },
      "source": [
        "# Our average F1 score from from 5 folds\n",
        "\n",
        "average_f1 = sum([x[-1] for x in res]) / len(res)\n",
        "average_f1"
      ],
      "execution_count": 97,
      "outputs": [
        {
          "output_type": "execute_result",
          "data": {
            "text/plain": [
              "0.7452991452991453"
            ]
          },
          "metadata": {},
          "execution_count": 97
        }
      ]
    },
    {
      "cell_type": "code",
      "source": [
        "# Conclusion\n",
        "# F1-Score with K=5 shows better result 0.74 (k=5) compared to 0.67 (k=3)\n",
        "# We will predict test result with knn_5 model"
      ],
      "metadata": {
        "id": "8C_ExQK3Mc2h"
      },
      "execution_count": null,
      "outputs": []
    },
    {
      "cell_type": "code",
      "source": [
        "X_test = [6,5]\n",
        "\n",
        "prediction = knn_5.predict([[6,5]])"
      ],
      "metadata": {
        "colab": {
          "base_uri": "https://localhost:8080/"
        },
        "id": "EcoBHhv9Mczm",
        "outputId": "d76892f1-fdac-4216-d9cc-696e52f58f15"
      },
      "execution_count": 105,
      "outputs": [
        {
          "output_type": "stream",
          "name": "stderr",
          "text": [
            "/usr/local/lib/python3.8/dist-packages/sklearn/base.py:450: UserWarning: X does not have valid feature names, but KNeighborsClassifier was fitted with feature names\n",
            "  warnings.warn(\n"
          ]
        }
      ]
    },
    {
      "cell_type": "code",
      "source": [
        "print(prediction)"
      ],
      "metadata": {
        "colab": {
          "base_uri": "https://localhost:8080/"
        },
        "id": "7cAqvmvrNKTW",
        "outputId": "df9c0056-01d5-4300-c1d3-119a8364c4f6"
      },
      "execution_count": 106,
      "outputs": [
        {
          "output_type": "stream",
          "name": "stdout",
          "text": [
            "['+']\n"
          ]
        }
      ]
    },
    {
      "cell_type": "code",
      "source": [
        "# model predicted positive"
      ],
      "metadata": {
        "id": "sB4DTieMNtMl"
      },
      "execution_count": null,
      "outputs": []
    }
  ]
}