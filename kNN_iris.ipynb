{
  "cells": [
    {
      "cell_type": "markdown",
      "metadata": {
        "id": "view-in-github",
        "colab_type": "text"
      },
      "source": [
        "<a href=\"https://colab.research.google.com/github/mkerimbay/Machine-Learning/blob/master/kNN_iris.ipynb\" target=\"_parent\"><img src=\"https://colab.research.google.com/assets/colab-badge.svg\" alt=\"Open In Colab\"/></a>"
      ]
    },
    {
      "cell_type": "markdown",
      "metadata": {
        "id": "iarMYznP9PhM"
      },
      "source": [
        "## kNN on Iris Dataset"
      ]
    },
    {
      "cell_type": "code",
      "execution_count": 1,
      "metadata": {
        "id": "oNE7awgp9PhN"
      },
      "outputs": [],
      "source": [
        "#importing the required libraries\n",
        "import pandas as pd\n",
        "import numpy as np\n",
        "import operator\n",
        "import matplotlib.pyplot as plt"
      ]
    },
    {
      "cell_type": "code",
      "execution_count": 2,
      "metadata": {
        "id": "ZHoOtW1d9PhN",
        "outputId": "c2fd7361-0229-4f12-d53d-047b5da05b1e",
        "colab": {
          "base_uri": "https://localhost:8080/"
        }
      },
      "outputs": [
        {
          "output_type": "stream",
          "name": "stdout",
          "text": [
            "     sepal_length  sepal_width  petal_length  petal_width      class\n",
            "0             5.1          3.5           1.4          0.2     Setosa\n",
            "1             4.9          3.0           1.4          0.2     Setosa\n",
            "2             4.7          3.2           1.3          0.2     Setosa\n",
            "3             4.6          3.1           1.5          0.2     Setosa\n",
            "4             5.0          3.6           1.4          0.2     Setosa\n",
            "..            ...          ...           ...          ...        ...\n",
            "145           6.7          3.0           5.2          2.3  Virginica\n",
            "146           6.3          2.5           5.0          1.9  Virginica\n",
            "147           6.5          3.0           5.2          2.0  Virginica\n",
            "148           6.2          3.4           5.4          2.3  Virginica\n",
            "149           5.9          3.0           5.1          1.8  Virginica\n",
            "\n",
            "[150 rows x 5 columns]\n"
          ]
        }
      ],
      "source": [
        "#reading data from the csv file\n",
        "# data = pd.read_csv('iris.csv', header=None, names=['sepal_length', 'sepal_width', 'petal_length', 'petal_width', 'class'])\n",
        "data = pd.read_csv('iris.csv')\n",
        "\n",
        "data = data.rename(columns={'sepal.length': 'sepal_length',\n",
        "                            'sepal.width': 'sepal_width',\n",
        "                            'petal.length': 'petal_length',\n",
        "                            'petal.width': 'petal_width',\n",
        "                            'variety': 'class'})\n",
        "print(data)"
      ]
    },
    {
      "cell_type": "markdown",
      "metadata": {
        "id": "QnbfWqGr9PhO"
      },
      "source": [
        "### Part a)\n",
        "Dividing the dataset as development and test."
      ]
    },
    {
      "cell_type": "code",
      "execution_count": 3,
      "metadata": {
        "id": "yOnekWsH9PhO",
        "outputId": "a51daf13-54fb-44eb-8ff9-61d65cc2c43e",
        "colab": {
          "base_uri": "https://localhost:8080/"
        }
      },
      "outputs": [
        {
          "output_type": "stream",
          "name": "stdout",
          "text": [
            "Development Set:\n",
            "      sepal_length  sepal_width  petal_length  petal_width       class\n",
            "114           5.8          2.8           5.1          2.4   Virginica\n",
            "142           5.8          2.7           5.1          1.9   Virginica\n",
            "85            6.0          3.4           4.5          1.6  Versicolor\n",
            "9             4.9          3.1           1.5          0.1      Setosa\n",
            "131           7.9          3.8           6.4          2.0   Virginica\n",
            "..            ...          ...           ...          ...         ...\n",
            "74            6.4          2.9           4.3          1.3  Versicolor\n",
            "55            5.7          2.8           4.5          1.3  Versicolor\n",
            "47            4.6          3.2           1.4          0.2      Setosa\n",
            "29            4.7          3.2           1.6          0.2      Setosa\n",
            "148           6.2          3.4           5.4          2.3   Virginica\n",
            "\n",
            "[112 rows x 5 columns] \n",
            "\n",
            "Test Set:\n",
            "      sepal_length  sepal_width  petal_length  petal_width       class\n",
            "141           6.9          3.1           5.1          2.3   Virginica\n",
            "123           6.3          2.7           4.9          1.8   Virginica\n",
            "99            5.7          2.8           4.1          1.3  Versicolor\n",
            "16            5.4          3.9           1.3          0.4      Setosa\n",
            "76            6.8          2.8           4.8          1.4  Versicolor\n",
            "140           6.7          3.1           5.6          2.4   Virginica\n",
            "4             5.0          3.6           1.4          0.2      Setosa\n",
            "7             5.0          3.4           1.5          0.2      Setosa\n",
            "33            5.5          4.2           1.4          0.2      Setosa\n",
            "41            4.5          2.3           1.3          0.3      Setosa\n",
            "86            6.7          3.1           4.7          1.5  Versicolor\n",
            "27            5.2          3.5           1.5          0.2      Setosa\n",
            "18            5.7          3.8           1.7          0.3      Setosa\n",
            "35            5.0          3.2           1.2          0.2      Setosa\n",
            "0             5.1          3.5           1.4          0.2      Setosa\n",
            "66            5.6          3.0           4.5          1.5  Versicolor\n",
            "97            6.2          2.9           4.3          1.3  Versicolor\n",
            "37            4.9          3.6           1.4          0.1      Setosa\n",
            "130           7.4          2.8           6.1          1.9   Virginica\n",
            "40            5.0          3.5           1.3          0.3      Setosa\n",
            "90            5.5          2.6           4.4          1.2  Versicolor\n",
            "10            5.4          3.7           1.5          0.2      Setosa\n",
            "120           6.9          3.2           5.7          2.3   Virginica\n",
            "65            6.7          3.1           4.4          1.4  Versicolor\n",
            "144           6.7          3.3           5.7          2.5   Virginica\n",
            "112           6.8          3.0           5.5          2.1   Virginica\n",
            "13            4.3          3.0           1.1          0.1      Setosa\n",
            "113           5.7          2.5           5.0          2.0   Virginica\n",
            "121           5.6          2.8           4.9          2.0   Virginica\n",
            "106           4.9          2.5           4.5          1.7   Virginica\n",
            "44            5.1          3.8           1.9          0.4      Setosa\n",
            "128           6.4          2.8           5.6          2.1   Virginica\n",
            "108           6.7          2.5           5.8          1.8   Virginica\n",
            "30            4.8          3.1           1.6          0.2      Setosa\n",
            "51            6.4          3.2           4.5          1.5  Versicolor\n",
            "115           6.4          3.2           5.3          2.3   Virginica\n",
            "143           6.8          3.2           5.9          2.3   Virginica\n",
            "98            5.1          2.5           3.0          1.1  Versicolor\n"
          ]
        }
      ],
      "source": [
        "#randomize the indices\n",
        "indices = np.random.permutation(data.shape[0])\n",
        "div = int(0.75 * len(indices))\n",
        "development_id, test_id = indices[:div], indices[div:]\n",
        "#dividing the dataset using randomized indices\n",
        "development_set, test_set = data.loc[development_id,:], data.loc[test_id,:]\n",
        "print(\"Development Set:\\n\", development_set, \"\\n\\nTest Set:\\n\", test_set)\n",
        "mean_development_set = development_set.mean(numeric_only=True)\n",
        "mean_test_set = test_set.mean(numeric_only=True)\n",
        "std_development_set = development_set.std(numeric_only=True)\n",
        "std_test_set = test_set.std(numeric_only=True)"
      ]
    },
    {
      "cell_type": "markdown",
      "metadata": {
        "id": "3F-47wV69PhO"
      },
      "source": [
        "### Part b)\n",
        "Implement kNN using the following hyperparameters:\n",
        "##### number of neighbor\n",
        "        * 1,3,5,7\n",
        "##### distance metric\n",
        "        * euclidean distance\n",
        "        * normalized euclidean distance\n",
        "        * cosine similarity"
      ]
    },
    {
      "cell_type": "markdown",
      "metadata": {
        "id": "QmaLISXg9PhO"
      },
      "source": [
        "Retrieving the 'class' column from the development and test sets and storing it in separate lists. Calculating the mean and standard deviation of the development set and test set for normalizing the data."
      ]
    },
    {
      "cell_type": "code",
      "execution_count": 4,
      "metadata": {
        "id": "eock8oeY9PhO"
      },
      "outputs": [],
      "source": [
        "test_class = list(test_set.iloc[:,-1])\n",
        "dev_class = list(development_set.iloc[:,-1])\n",
        "mean_development_set = development_set.mean(numeric_only=True)\n",
        "mean_test_set = test_set.mean(numeric_only=True)\n",
        "std_development_set = development_set.std(numeric_only=True)\n",
        "std_test_set = test_set.std(numeric_only=True)"
      ]
    },
    {
      "cell_type": "markdown",
      "metadata": {
        "id": "jCOlvFTU9PhO"
      },
      "source": [
        "Functions for computing the Euclidean Distance, Normalized Euclidean Distance, Cosine Similarity and k Nearest Neighbor to determine the 'class' for a given input instance."
      ]
    },
    {
      "cell_type": "code",
      "execution_count": 5,
      "metadata": {
        "id": "OO3_zP-k9PhO"
      },
      "outputs": [],
      "source": [
        "def euclideanDistance(data_1, data_2, data_len):\n",
        "    dist = 0\n",
        "    for i in range(data_len):\n",
        "        dist = dist + np.square(data_1[i] - data_2[i])\n",
        "    return np.sqrt(dist)\n",
        "\n",
        "def normalizedEuclideanDistance(data_1, data_2, data_len, data_mean, data_std):\n",
        "    n_dist = 0\n",
        "    for i in range(data_len):\n",
        "        n_dist = n_dist + (np.square(((data_1[i] - data_mean[i])/data_std[i]) - ((data_2[i] - data_mean[i])/data_std[i])))\n",
        "    return np.sqrt(n_dist)\n",
        "\n",
        "# Title: Cosine Similarty between 2 Number Lists\n",
        "# Author: dontloo\n",
        "# Date: 03.27.2017\n",
        "# Code version: 1\n",
        "# Availability: https://stackoverflow.com/questions/18424228/cosine-similarity-between-2-number-lists\n",
        "def cosineSimilarity(data_1, data_2):\n",
        "    dot = np.dot(data_1, data_2[:-1])\n",
        "    norm_data_1 = np.linalg.norm(data_1)\n",
        "    norm_data_2 = np.linalg.norm(data_2[:-1])\n",
        "    cos = dot / (norm_data_1 * norm_data_2)\n",
        "    return (1-cos)\n",
        "\n",
        "def knn(dataset, testInstance, k, dist_method, dataset_mean, dataset_std): \n",
        "    distances = {}\n",
        "    length = testInstance.shape[1]\n",
        "    if dist_method == 'euclidean':\n",
        "        for x in range(len(dataset)):\n",
        "            dist_up = euclideanDistance(testInstance, dataset.iloc[x], length)\n",
        "            distances[x] = dist_up[0]\n",
        "    elif dist_method == 'normalized_euclidean':\n",
        "        for x in range(len(dataset)):\n",
        "            dist_up = normalizedEuclideanDistance(testInstance, dataset.iloc[x], length, dataset_mean, dataset_std)\n",
        "            distances[x] = dist_up[0]\n",
        "    elif dist_method == 'cosine':\n",
        "        for x in range(len(dataset)):\n",
        "            dist_up = cosineSimilarity(testInstance, dataset.iloc[x])\n",
        "            distances[x] = dist_up[0]\n",
        "    # Sort values based on distance\n",
        "    sort_distances = sorted(distances.items(), key=operator.itemgetter(1))\n",
        "    neighbors = []\n",
        "    # Extracting nearest k neighbors\n",
        "    for x in range(k):\n",
        "        neighbors.append(sort_distances[x][0])\n",
        "    # Initializing counts for 'class' labels counts as 0\n",
        "    counts = {\"Setosa\" : 0, \"Versicolor\" : 0, \"Virginica\" : 0}\n",
        "    # Computing the most frequent class\n",
        "    for x in range(len(neighbors)):\n",
        "        response = dataset.iloc[neighbors[x]][-1] \n",
        "        if response in counts:\n",
        "            counts[response] += 1\n",
        "        else:\n",
        "            counts[response] = 1\n",
        "    # Sorting the class in reverse order to get the most frequest class\n",
        "    sort_counts = sorted(counts.items(), key=operator.itemgetter(1), reverse=True)\n",
        "    return(sort_counts[0][0])"
      ]
    },
    {
      "cell_type": "markdown",
      "metadata": {
        "id": "O86LcmoK9PhP"
      },
      "source": [
        "### Part c)\n",
        "Using the development data set"
      ]
    },
    {
      "cell_type": "markdown",
      "metadata": {
        "id": "INMsHsDX9PhP"
      },
      "source": [
        "Iterating all of the development data points and computing the class for each k and each distance metric"
      ]
    },
    {
      "cell_type": "code",
      "execution_count": 6,
      "metadata": {
        "scrolled": false,
        "id": "Dv5qsAF79PhP",
        "outputId": "f4adaa77-e104-461d-8a40-cd2ec3fee2a3",
        "colab": {
          "base_uri": "https://localhost:8080/"
        }
      },
      "outputs": [
        {
          "output_type": "stream",
          "name": "stdout",
          "text": [
            "EUCLIDEAN distance method performed on the dataset for all k values!\n",
            "NORMALIZED_EUCLIDEAN distance method performed on the dataset for all k values!\n",
            "COSINE distance method performed on the dataset for all k values!\n"
          ]
        }
      ],
      "source": [
        "# Creating a list of list of all columns except 'class' by iterating through the development set\n",
        "row_list = []\n",
        "for index, rows in development_set.iterrows():\n",
        "    my_list =[rows.sepal_length, rows.sepal_width, rows.petal_length, rows.petal_width]       \n",
        "    row_list.append([my_list])\n",
        "# k values for the number of neighbors that need to be considered\n",
        "k_n = [1, 3, 5, 7]\n",
        "# Distance metrics\n",
        "distance_methods = ['euclidean', 'normalized_euclidean', 'cosine']\n",
        "# Performing kNN on the development set by iterating all of the development set data points and for each k and each distance metric\n",
        "obs_k = {}\n",
        "for dist_method in distance_methods:\n",
        "    development_set_obs_k = {}\n",
        "    for k in k_n:\n",
        "        development_set_obs = []\n",
        "        for i in range(len(row_list)):\n",
        "            development_set_obs.append(knn(development_set, pd.DataFrame(row_list[i]), k, dist_method, mean_development_set, std_development_set))\n",
        "        development_set_obs_k[k] = development_set_obs\n",
        "    # Nested Dictionary containing the observed class for each k and each distance metric (obs_k of the form obs_k[dist_method][k])\n",
        "    obs_k[dist_method] = development_set_obs_k\n",
        "    print(dist_method.upper() + \" distance method performed on the dataset for all k values!\")\n",
        "#print(obs_k)"
      ]
    },
    {
      "cell_type": "markdown",
      "metadata": {
        "id": "RKNtL-m89PhP"
      },
      "source": [
        "Computing the accuracy for the development data set and finding the optimal hyperparametes"
      ]
    },
    {
      "cell_type": "code",
      "execution_count": 7,
      "metadata": {
        "id": "MuWtq7oi9PhP",
        "outputId": "bf659e21-de4f-4b10-c1fe-7e2eeaa17b03",
        "colab": {
          "base_uri": "https://localhost:8080/",
          "height": 432
        }
      },
      "outputs": [
        {
          "output_type": "stream",
          "name": "stdout",
          "text": [
            "   k  euclidean  normalized_euclidean    cosine\n",
            "0  1   1.000000              1.000000  1.000000\n",
            "1  3   0.955357              0.946429  0.982143\n",
            "2  5   0.955357              0.946429  0.973214\n",
            "3  7   0.964286              0.973214  0.964286\n",
            "\n",
            "\n",
            "\n",
            "Best k value is\u001b[1m 3 \u001b[0mand best distance metric is\u001b[1m cosine \u001b[0m. Ignoring k=1 if the value of accuracy for k=1 is 100%, since this mostly implies overfitting\n"
          ]
        },
        {
          "output_type": "display_data",
          "data": {
            "text/plain": [
              "<Figure size 432x288 with 1 Axes>"
            ],
            "image/png": "[encoded data removed]"
          },
          "metadata": {
            "needs_background": "light"
          }
        }
      ],
      "source": [
        "# Calculating the accuracy of the development set by comparing it with the development set 'class' list created earlier\n",
        "accuracy = {}\n",
        "for key in obs_k.keys():\n",
        "    accuracy[key] = {}\n",
        "    for k_value in obs_k[key].keys():\n",
        "        #print('k = ', key)\n",
        "        count = 0\n",
        "        for i,j in zip(dev_class, obs_k[key][k_value]):\n",
        "            if i == j:\n",
        "                count = count + 1\n",
        "            else:\n",
        "                pass\n",
        "        accuracy[key][k_value] = count/(len(dev_class))\n",
        "\n",
        "# Storing the accuracy for each k and each distance metric into a dataframe\n",
        "df_res = pd.DataFrame({'k': k_n})\n",
        "for key in accuracy.keys():\n",
        "    value = list(accuracy[key].values())\n",
        "    df_res[key] = value\n",
        "print(df_res)\n",
        "\n",
        "# Plotting a Bar Chart for accuracy\n",
        "draw = df_res.plot(x='k', y=['euclidean', 'normalized_euclidean', 'cosine'], kind=\"bar\", colormap='YlGnBu')\n",
        "draw.set(ylabel='Accuracy')\n",
        "\n",
        "# Ignoring k=1 if the value of accuracy for k=1 is 100%, since this mostly implies overfitting\n",
        "df_res.loc[df_res['k'] == 1.0, ['euclidean', 'normalized_euclidean', 'cosine']] = np.nan\n",
        "\n",
        "df_res\n",
        "# Fetching the best k value for using all hyper-parameters\n",
        "# In case the accuracy is the same for different k and different distance metric selecting the first of all the same\n",
        "column_val = [c for c in df_res.columns if not c.startswith('k')]\n",
        "# col_max = df_res[column_val].max().idxmax(1)\n",
        "col_max = df_res[column_val].max().idxmax()\n",
        "col_max\n",
        "\n",
        "best_dist_method = col_max\n",
        "row_max = df_res[col_max].argmax()\n",
        "best_k = int(df_res.iloc[row_max]['k'])\n",
        "if df_res.isnull().values.any():\n",
        "    print('\\n\\n\\nBest k value is\\033[1m', best_k, '\\033[0mand best distance metric is\\033[1m', best_dist_method, '\\033[0m. Ignoring k=1 if the value of accuracy for k=1 is 100%, since this mostly implies overfitting')\n",
        "else:\n",
        "    print('\\n\\n\\nBest k value is\\033[1m', best_k, '\\033[0mand best distance metric is\\033[1m', best_dist_method, '\\033[0m.')"
      ]
    },
    {
      "cell_type": "markdown",
      "metadata": {
        "id": "3VN4jaFM9PhQ"
      },
      "source": [
        "### Part d)\n",
        "Using the test dataset"
      ]
    },
    {
      "cell_type": "code",
      "execution_count": 8,
      "metadata": {
        "id": "jo9eeqmP9PhQ",
        "outputId": "2c173409-d205-4be4-d457-f6bba535141b",
        "colab": {
          "base_uri": "https://localhost:8080/"
        }
      },
      "outputs": [
        {
          "output_type": "stream",
          "name": "stdout",
          "text": [
            "\n",
            "\n",
            "\n",
            "Best k value is\u001b[1m 3 \u001b[0mand best distance metric is\u001b[1m cosine \u001b[0m\n"
          ]
        }
      ],
      "source": [
        "print('\\n\\n\\nBest k value is\\033[1m', best_k, '\\033[0mand best distance metric is\\033[1m', best_dist_method, '\\033[0m')"
      ]
    },
    {
      "cell_type": "markdown",
      "metadata": {
        "id": "-X_6OUH29PhQ"
      },
      "source": [
        "Using the best k value and best distance metric to determine the class for all rows in the test dataset"
      ]
    },
    {
      "cell_type": "code",
      "execution_count": 9,
      "metadata": {
        "id": "qNLZ9luo9PhQ",
        "outputId": "ba083772-d6d0-4ae7-b7eb-b57a9a62bdba",
        "colab": {
          "base_uri": "https://localhost:8080/"
        }
      },
      "outputs": [
        {
          "output_type": "stream",
          "name": "stdout",
          "text": [
            "Final Accuracy of the Test dataset is  1.0\n"
          ]
        }
      ],
      "source": [
        "# Creating a list of list of all columns except 'class' by iterating through the development set\n",
        "row_list_test = []\n",
        "for index, rows in test_set.iterrows(): \n",
        "    my_list =[rows.sepal_length, rows.sepal_width, rows.petal_length, rows.petal_width]       \n",
        "    row_list_test.append([my_list])\n",
        "test_set_obs = []\n",
        "for i in range(len(row_list_test)):\n",
        "    test_set_obs.append(knn(test_set, pd.DataFrame(row_list_test[i]), best_k, best_dist_method, mean_test_set, std_test_set))\n",
        "#print(test_set_obs)\n",
        "\n",
        "count = 0\n",
        "for i,j in zip(test_class, test_set_obs):\n",
        "    if i == j:\n",
        "        count = count + 1\n",
        "    else:\n",
        "        pass\n",
        "accuracy_test = count/(len(test_class))\n",
        "print('Final Accuracy of the Test dataset is ', accuracy_test)"
      ]
    },
    {
      "cell_type": "code",
      "source": [
        "# Final accuracy of the test dataset gives 1.0, which is all predictions are correct!"
      ],
      "metadata": {
        "id": "gPjRLzsUOwRH"
      },
      "execution_count": 10,
      "outputs": []
    },
    {
      "cell_type": "markdown",
      "metadata": {
        "id": "aThiEB-69PhQ"
      },
      "source": [
        "### References"
      ]
    },
    {
      "cell_type": "markdown",
      "metadata": {
        "id": "LLEGOfcA9PhQ"
      },
      "source": [
        "https://stackoverflow.com/questions/18424228/cosine-similarity-between-2-number-lists - for cosine similarity\n",
        "\n",
        "https://machinelearningmastery.com/tutorial-to-implement-k-nearest-neighbors-in-python-from-scratch/ - for nearest neighbors"
      ]
    },
    {
      "cell_type": "code",
      "source": [
        "from sklearn import metrics"
      ],
      "metadata": {
        "id": "PPZy40afDpqx"
      },
      "execution_count": 11,
      "outputs": []
    },
    {
      "cell_type": "code",
      "source": [
        "metrics.confusion_matrix(test_class, test_set_obs)"
      ],
      "metadata": {
        "colab": {
          "base_uri": "https://localhost:8080/"
        },
        "id": "xIdDNU0RDs-v",
        "outputId": "0deb492e-1e24-43ba-ba29-a84d4e0a727f"
      },
      "execution_count": 12,
      "outputs": [
        {
          "output_type": "execute_result",
          "data": {
            "text/plain": [
              "array([[15,  0,  0],\n",
              "       [ 0,  9,  0],\n",
              "       [ 0,  0, 14]])"
            ]
          },
          "metadata": {},
          "execution_count": 12
        }
      ]
    },
    {
      "cell_type": "code",
      "source": [
        "# it will be obvious that once we have accuracy of 1, gives this kind of matrix, and precision, recall and f1-score will also be 1"
      ],
      "metadata": {
        "id": "RSnq47FNPY6J"
      },
      "execution_count": 13,
      "outputs": []
    },
    {
      "cell_type": "code",
      "source": [
        "print(metrics.classification_report(test_class, test_set_obs))"
      ],
      "metadata": {
        "colab": {
          "base_uri": "https://localhost:8080/"
        },
        "id": "9lQUaDMfGfAI",
        "outputId": "97ac8c68-4f59-4333-91e0-c2e0e14e9b07"
      },
      "execution_count": 14,
      "outputs": [
        {
          "output_type": "stream",
          "name": "stdout",
          "text": [
            "              precision    recall  f1-score   support\n",
            "\n",
            "      Setosa       1.00      1.00      1.00        15\n",
            "  Versicolor       1.00      1.00      1.00         9\n",
            "   Virginica       1.00      1.00      1.00        14\n",
            "\n",
            "    accuracy                           1.00        38\n",
            "   macro avg       1.00      1.00      1.00        38\n",
            "weighted avg       1.00      1.00      1.00        38\n",
            "\n"
          ]
        }
      ]
    },
    {
      "cell_type": "code",
      "source": [],
      "metadata": {
        "id": "IfeFtZkDHF8n"
      },
      "execution_count": null,
      "outputs": []
    }
  ],
  "metadata": {
    "kernelspec": {
      "display_name": "Python 3",
      "language": "python",
      "name": "python3"
    },
    "language_info": {
      "codemirror_mode": {
        "name": "ipython",
        "version": 3
      },
      "file_extension": ".py",
      "mimetype": "text/x-python",
      "name": "python",
      "nbconvert_exporter": "python",
      "pygments_lexer": "ipython3",
      "version": "3.8.1"
    },
    "colab": {
      "provenance": [],
      "include_colab_link": true
    }
  },
  "nbformat": 4,
  "nbformat_minor": 0
}